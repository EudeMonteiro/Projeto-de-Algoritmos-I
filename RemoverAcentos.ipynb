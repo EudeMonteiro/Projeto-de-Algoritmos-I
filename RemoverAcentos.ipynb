{
 "cells": [
  {
   "cell_type": "code",
   "execution_count": 2,
   "id": "b35acf33",
   "metadata": {
    "scrolled": true
   },
   "outputs": [
    {
     "name": "stdout",
     "output_type": "stream",
     "text": [
      "Agua, Maca, impar, Sofa, Cracha, Parabens, Jacares, Facil, Domino\n"
     ]
    }
   ],
   "source": [
    "#Autor: Eude Monteiro da Hora\n",
    "\n",
    "import re\n",
    "\n",
    "def removerAcentos(str_Input):\n",
    "    \n",
    "    str_Input = re.sub(u\"[àáâãä]\", 'a', str_Input)\n",
    "    str_Input = re.sub(u\"[ÀÁÂÃÄ]\", 'A', str_Input)\n",
    "    \n",
    "    str_Input = re.sub(u\"[èéêë]\", 'e', str_Input)\n",
    "    str_Input = re.sub(u\"[ÈÉÊË]\", 'E', str_Input)\n",
    "    \n",
    "    str_Input = re.sub(u\"[ìíîï]\", 'i', str_Input)\n",
    "    str_Input = re.sub(u\"[ÌÍÎÏ]\", 'I', str_Input)\n",
    "    \n",
    "    str_Input = re.sub(u\"[òóôõö]\", 'o', str_Input)\n",
    "    str_Input = re.sub(u\"[ÒÓÔÕÖ]\", 'O', str_Input)\n",
    "    \n",
    "    str_Input = re.sub(u\"[ùúûü]\", 'u', str_Input)\n",
    "    str_Input = re.sub(u\"[ÙÚÛÜ]\", 'U', str_Input)\n",
    "    \n",
    "    str_Input = re.sub(u\"[ç]\", 'c', str_Input)\n",
    "    str_Input = re.sub(u\"[Ç]\", 'C', str_Input)\n",
    "    \n",
    "    str_Input = re.sub(u\"[ñ]\", 'n', str_Input)\n",
    "    str_Input = re.sub(u\"[Ñ]\", 'N', str_Input)\n",
    "    \n",
    "    print(str_Input)\n",
    "\n",
    "removerAcentos('Água, Maçã, ímpar, Sofá, Crachá, Parabéns, Jacarés, Fácil, Dominó')"
   ]
  }
 ],
 "metadata": {
  "kernelspec": {
   "display_name": "Python 3 (ipykernel)",
   "language": "python",
   "name": "python3"
  },
  "language_info": {
   "codemirror_mode": {
    "name": "ipython",
    "version": 3
   },
   "file_extension": ".py",
   "mimetype": "text/x-python",
   "name": "python",
   "nbconvert_exporter": "python",
   "pygments_lexer": "ipython3",
   "version": "3.8.10"
  }
 },
 "nbformat": 4,
 "nbformat_minor": 5
}
