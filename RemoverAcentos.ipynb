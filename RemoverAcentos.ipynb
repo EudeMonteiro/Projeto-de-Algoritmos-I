{
 "cells": [
  {
   "cell_type": "code",
   "execution_count": 1,
   "id": "b35acf33",
   "metadata": {},
   "outputs": [
    {
     "name": "stdout",
     "output_type": "stream",
     "text": [
      "agua OrfAo estatico medico Oxigenio\n"
     ]
    }
   ],
   "source": [
    "#AUTOR: Eude Monteiro da Hora\n",
    "\n",
    "import re\n",
    "\n",
    "def removerAcentos(raw_text):\n",
    "    \n",
    "    raw_text = re.sub(u\"[àáâãä]\", 'a', raw_text)\n",
    "    raw_text = re.sub(u\"[ÀÁÂÃÄ]\", 'A', raw_text)\n",
    "    \n",
    "    raw_text = re.sub(u\"[èéêë]\", 'e', raw_text)\n",
    "    raw_text = re.sub(u\"[ÈÉÊË]\", 'E', raw_text)\n",
    "    \n",
    "    \n",
    "    raw_text = re.sub(u\"[ìíîï]\", 'i', raw_text)\n",
    "    raw_text = re.sub(u\"[ÌÍÎÏ]\", 'I', raw_text)\n",
    "    \n",
    "    raw_text = re.sub(u\"[òóôõö]\", 'o', raw_text)\n",
    "    raw_text = re.sub(u\"[ÒÓÔÕÖ]\", 'O', raw_text)\n",
    "    \n",
    "    raw_text = re.sub(u\"[ùúûü]\", 'u', raw_text)\n",
    "    raw_text = re.sub(u\"[ÙÚÛÜ]\", 'U', raw_text)\n",
    "    \n",
    "    raw_text = re.sub(u\"[ç]\", 'c', raw_text)\n",
    "    raw_text = re.sub(u\"[Ç]\", 'C', raw_text)\n",
    "    \n",
    "    raw_text = re.sub(u\"[ñ]\", 'n', raw_text)\n",
    "    raw_text = re.sub(u\"[Ñ]\", 'N', raw_text)\n",
    "    \n",
    "    print(raw_text)\n",
    "\n",
    "removerAcentos('água ÓrfÃo estático médico Óxigênio')"
   ]
  },
  {
   "cell_type": "code",
   "execution_count": 14,
   "id": "356a364a",
   "metadata": {},
   "outputs": [
    {
     "data": {
      "text/plain": [
       "'a c n c a a o'"
      ]
     },
     "execution_count": 14,
     "metadata": {},
     "output_type": "execute_result"
    }
   ],
   "source": [
    "import unicodedata\n",
    "\n",
    "def remove_accents(input_str):\n",
    "    nfkd_form = unicodedata.normalize('NFKD', input_str)\n",
    "    return u\"\".join([c for c in nfkd_form if not unicodedata.combining(c)])\n",
    "\n",
    "remove_accents(\"ã ç ñ ç á â ó\")"
   ]
  },
  {
   "cell_type": "code",
   "execution_count": 15,
   "id": "37492857",
   "metadata": {},
   "outputs": [
    {
     "data": {
      "text/plain": [
       "(str, str)"
      ]
     },
     "execution_count": 15,
     "metadata": {},
     "output_type": "execute_result"
    }
   ],
   "source": [
    "plain_string = \"Hi!\"\n",
    "unicode_string = u\"Hi!\"\n",
    "type(plain_string), type(unicode_string)\n"
   ]
  },
  {
   "cell_type": "code",
   "execution_count": 37,
   "id": "f09d15e8",
   "metadata": {},
   "outputs": [
    {
     "data": {
      "text/plain": [
       "'agua, oxigenio, medico, aaa'"
      ]
     },
     "execution_count": 37,
     "metadata": {},
     "output_type": "execute_result"
    }
   ],
   "source": [
    "import re\n",
    "import unicodedata\n",
    "\n",
    "def strip_accents(text):\n",
    "    \"\"\"\n",
    "    Strip accents from input String.\n",
    "\n",
    "    :param text: The input string.\n",
    "    :type text: String.\n",
    "\n",
    "    :returns: The processed String.\n",
    "    :rtype: String.\n",
    "    \"\"\"\n",
    "    try:\n",
    "        text = unicode(text, 'utf-8')\n",
    "    except (TypeError, NameError): # unicode is a default on python 3 \n",
    "        pass\n",
    "    text = unicodedata.normalize('NFD', text)\n",
    "    text = text.encode('ascii', 'ignore')\n",
    "    text = text.decode(\"utf-8\")\n",
    "    return str(text)\n",
    "\n",
    "def text_to_id(text):\n",
    "    \"\"\"\n",
    "    Convert input text to id.\n",
    "\n",
    "    :param text: The input string.\n",
    "    :type text: String.\n",
    "\n",
    "    :returns: The processed String.\n",
    "    :rtype: String.\n",
    "    \"\"\"\n",
    "    text = strip_accents(text.lower())\n",
    "    \n",
    "    return text\n",
    "\n",
    "strip_accents(\"água, oxigênio, médico, áâã\")"
   ]
  },
  {
   "cell_type": "code",
   "execution_count": null,
   "id": "e984db94",
   "metadata": {},
   "outputs": [],
   "source": []
  },
  {
   "cell_type": "code",
   "execution_count": null,
   "id": "7493c44e",
   "metadata": {},
   "outputs": [],
   "source": []
  }
 ],
 "metadata": {
  "kernelspec": {
   "display_name": "Python 3 (ipykernel)",
   "language": "python",
   "name": "python3"
  },
  "language_info": {
   "codemirror_mode": {
    "name": "ipython",
    "version": 3
   },
   "file_extension": ".py",
   "mimetype": "text/x-python",
   "name": "python",
   "nbconvert_exporter": "python",
   "pygments_lexer": "ipython3",
   "version": "3.8.10"
  }
 },
 "nbformat": 4,
 "nbformat_minor": 5
}
